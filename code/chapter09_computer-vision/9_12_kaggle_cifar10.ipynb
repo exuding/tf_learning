{
 "cells": [
  {
   "cell_type": "markdown",
   "metadata": {
    "colab_type": "text",
    "id": "voF4T3w6mBDn"
   },
   "source": [
    "# 9.12 实战Kaggle比赛：图像分类（CIFAR-10）"
   ]
  },
  {
   "cell_type": "markdown",
   "metadata": {
    "colab_type": "text",
    "id": "2Pw3DAlujcBn"
   },
   "source": [
    "我们曾在“图像增广”一节中实验过CIFAR-10数据集。它是计算机视觉领域的一个重要数据集。现在我们将应用前面所学的知识，动手实战CIFAR-10图像分类问题的Kaggle比赛。该比赛的网页地址是 https://www.kaggle.com/c/cifar-10 。\n",
    "\n",
    "图9.16展示了该比赛的网页信息。为了便于提交结果，请先在Kaggle网站上注册账号。"
   ]
  },
  {
   "cell_type": "markdown",
   "metadata": {
    "colab_type": "text",
    "id": "dg_CR1O7FskM"
   },
   "source": [
    "![alt text](https://zh.d2l.ai/_images/kaggle_cifar10.png)"
   ]
  },
  {
   "cell_type": "code",
   "execution_count": 0,
   "metadata": {
    "colab": {},
    "colab_type": "code",
    "id": "zs4NtA8xCn_3"
   },
   "outputs": [],
   "source": [
    "# Install TensorFlow\n",
    "try:\n",
    "  # %tensorflow_version only exists in Colab.\n",
    "  %tensorflow_version 2.x\n",
    "except Exception:\n",
    "  pass\n",
    "import tensorflow as tf\n",
    "from tensorflow import keras\n",
    "import numpy as np\n",
    "import matplotlib.pyplot as plt\n",
    "import os\n",
    "import shutil"
   ]
  },
  {
   "cell_type": "markdown",
   "metadata": {
    "colab_type": "text",
    "id": "OIi6p-OyFUpd"
   },
   "source": [
    "## 9.12.1. 获取和整理数据集"
   ]
  },
  {
   "cell_type": "markdown",
   "metadata": {
    "colab_type": "text",
    "id": "psMnKA85FYxC"
   },
   "source": [
    "比赛数据分为训练集和测试集。训练集包含5万张图像。测试集包含30万张图像，其中有1万张图像用来计分，其他29万张不计分的图像是为了防止人工标注测试集并提交标注结果。两个数据集中的图像格式都是png，高和宽均为32像素，并含有RGB三个通道（彩色）。图像一共涵盖10个类别，分别为飞机、汽车、鸟、猫、鹿、狗、青蛙、马、船和卡车。图9.16的左上角展示了数据集中部分飞机、汽车和鸟的图像。"
   ]
  },
  {
   "cell_type": "markdown",
   "metadata": {
    "colab_type": "text",
    "id": "n5xLlNaMFxtc"
   },
   "source": [
    "## 9.12.1.1. 下载数据集"
   ]
  },
  {
   "cell_type": "markdown",
   "metadata": {
    "colab_type": "text",
    "id": "AHrP25nWF1z3"
   },
   "source": [
    "登录Kaggle后，可以点击图9.16所示的CIFAR-10图像分类比赛网页上的“Data”标签，并分别下载训练数据集train.7z、测试数据集test.7z和训练数据集标签trainLabels.csv。"
   ]
  },
  {
   "cell_type": "markdown",
   "metadata": {
    "colab_type": "text",
    "id": "hO6fDr5aUq4F"
   },
   "source": [
    "## 9.12.1.2. 解压数据集"
   ]
  },
  {
   "cell_type": "markdown",
   "metadata": {
    "colab_type": "text",
    "id": "wSxYPViXU0u2"
   },
   "source": [
    "下载完训练数据集train.7z和测试数据集test.7z后需要解压缩。解压缩后，将训练数据集、测试数据集以及训练数据集标签分别存放在以下3个路径："
   ]
  },
  {
   "cell_type": "markdown",
   "metadata": {
    "colab_type": "text",
    "id": "o5jXsplUU1dv"
   },
   "source": [
    "* ../data/kaggle_cifar10/train/[1-50000].png；\n",
    "* ../data/kaggle_cifar10/test/[1-300000].png；\n",
    "* ../data/kaggle_cifar10/trainLabels.csv。"
   ]
  },
  {
   "cell_type": "markdown",
   "metadata": {
    "colab_type": "text",
    "id": "X60x8J7yU7F_"
   },
   "source": [
    "为方便快速上手，我们提供了上述数据集的小规模采样，其中train_tiny.zip包含100个训练样本，而test_tiny.zip仅包含1个测试样本。它们解压后的文件夹名称分别为train_tiny和test_tiny。此外，将训练数据集标签的压缩文件解压，并得到trainLabels.csv。"
   ]
  },
  {
   "cell_type": "code",
   "execution_count": 4,
   "metadata": {
    "colab": {
     "base_uri": "https://localhost:8080/",
     "height": 68
    },
    "colab_type": "code",
    "id": "UCgqAEPZRsOn",
    "outputId": "56f3b3d6-57ba-41fa-919e-67232d1fa3dd"
   },
   "outputs": [
    {
     "name": "stdout",
     "output_type": "stream",
     "text": [
      "ok\n",
      "ok\n",
      "ok\n"
     ]
    }
   ],
   "source": [
    "import zipfile\n",
    "def extract_zip(file_name, target_path):\n",
    "    \"\"\"unzip zip file\"\"\"\n",
    "    zip_file = zipfile.ZipFile(file_name)\n",
    "    for names in zip_file.namelist():\n",
    "        zip_file.extract(names,target_path)\n",
    "    zip_file.close()\n",
    "    print(\"ok\")\n",
    "test_tiny_name = '../../data/kaggle_cifar10/test_tiny.zip'\n",
    "train_tiny_name = '../../data/kaggle_cifar10/train_tiny.zip'\n",
    "trainLabelsCsv_name = '../../data/kaggle_cifar10/trainLabels.csv.zip'\n",
    "extract_zip(test_tiny_name, \"../../data/kaggle_cifar10\")\n",
    "extract_zip(train_tiny_name, \"../../data/kaggle_cifar10\")\n",
    "extract_zip(trainLabelsCsv_name, \"../../data/kaggle_cifar10\")"
   ]
  },
  {
   "cell_type": "markdown",
   "metadata": {
    "colab_type": "text",
    "id": "nYyiFmQKSr5d"
   },
   "source": [
    "## 9.12.1.3. 整理数据集"
   ]
  },
  {
   "cell_type": "markdown",
   "metadata": {
    "colab_type": "text",
    "id": "sKVJuQq-StJD"
   },
   "source": [
    "我们需要整理数据集，以方便训练和测试模型。以下的read_label_file函数将用来读取训练数据集的标签文件。该函数中的参数valid_ratio是验证集样本数与原始训练集样本数之比。"
   ]
  },
  {
   "cell_type": "code",
   "execution_count": 0,
   "metadata": {
    "colab": {},
    "colab_type": "code",
    "id": "8knFXl2lSj-4"
   },
   "outputs": [],
   "source": [
    "def read_label_file(data_dir, label_file, train_dir, valid_ratio):\n",
    "    with open(os.path.join(data_dir, label_file), 'r') as f:\n",
    "        # 跳过文件头行（栏名称）\n",
    "        lines = f.readlines()[1:]\n",
    "        tokens = [l.rstrip().split(',') for l in lines]\n",
    "        idx_label = dict(((int(idx), label) for idx, label in tokens))\n",
    "    labels = set(idx_label.values())\n",
    "    n_train_valid = len(os.listdir(os.path.join(data_dir, train_dir)))\n",
    "    n_train = int(n_train_valid * (1 - valid_ratio))\n",
    "    assert 0 < n_train < n_train_valid\n",
    "    return n_train // len(labels), idx_label"
   ]
  },
  {
   "cell_type": "markdown",
   "metadata": {
    "colab_type": "text",
    "id": "AxaIt75uVEvW"
   },
   "source": [
    "下面定义一个辅助函数，从而仅在路径不存在的情况下创建路径。"
   ]
  },
  {
   "cell_type": "code",
   "execution_count": 0,
   "metadata": {
    "colab": {},
    "colab_type": "code",
    "id": "lmVzx44uU-xH"
   },
   "outputs": [],
   "source": [
    "# 本函数已保存在d2lzh包中方便以后使用\n",
    "def mkdir_if_not_exist(path):\n",
    "    if not os.path.exists(os.path.join(*path)):\n",
    "        os.makedirs(os.path.join(*path))"
   ]
  },
  {
   "cell_type": "markdown",
   "metadata": {
    "colab_type": "text",
    "id": "lHJty28Gkyth"
   },
   "source": [
    "我们接下来定义reorg_train_valid函数来从原始训练集中切分出验证集。以valid_ratio=0.1为例，由于原始训练集有50,000张图像，调参时将有45,000张图像用于训练并存放在路径input_dir/train下，而另外5,000张图像将作为验证集并存放在路径input_dir/valid下。经过整理后，同一类图像将被放在同一个文件夹下，便于稍后读取。"
   ]
  },
  {
   "cell_type": "code",
   "execution_count": 0,
   "metadata": {
    "colab": {},
    "colab_type": "code",
    "id": "RPdBD1aEVZRx"
   },
   "outputs": [],
   "source": [
    "def reorg_train_valid(data_dir, train_dir, input_dir,\n",
    "            n_train_per_label, idx_label):\n",
    "    label_count = {}\n",
    "    for train_file in os.listdir(os.path.join(data_dir, train_dir)):\n",
    "        idx = int(train_file.split('.')[0])\n",
    "        label = idx_label[idx]\n",
    "        mkdir_if_not_exist([data_dir, input_dir, 'train_valid', label])\n",
    "        shutil.copy(os.path.join(data_dir, train_dir, train_file),\n",
    "            os.path.join(data_dir, input_dir, \"train_valid\", label))\n",
    "        if label not in label_count or label_count[label] < n_train_per_label:\n",
    "            mkdir_if_not_exist([data_dir, input_dir, 'train', label])\n",
    "            shutil.copy(os.path.join(data_dir, train_dir, train_file),\n",
    "                os.path.join(data_dir, input_dir, 'train', label))\n",
    "            # 如果不存在则返回 0 + 1\n",
    "            label_count[label] = label_count.get(label, 0) + 1\n",
    "        else:\n",
    "            mkdir_if_not_exist([data_dir, input_dir, 'valid', label])\n",
    "            shutil.copy(os.path.join(data_dir, train_dir, train_file),\n",
    "                os.path.join(data_dir, input_dir, 'valid', label))"
   ]
  },
  {
   "cell_type": "markdown",
   "metadata": {
    "colab_type": "text",
    "id": "o8CFMbDIEIx5"
   },
   "source": [
    "下面的reorg_test函数用来整理测试集，从而方便预测时的读取。"
   ]
  },
  {
   "cell_type": "code",
   "execution_count": 0,
   "metadata": {
    "colab": {},
    "colab_type": "code",
    "id": "FNr7DtI4CDW9"
   },
   "outputs": [],
   "source": [
    "def reorg_test(data_dir, test_dir, input_dir):\n",
    "    mkdir_if_not_exist([data_dir, input_dir, 'test', 'unknown'])\n",
    "    for test_file in os.listdir(os.path.join(data_dir, test_dir)):\n",
    "        shutil.copy(os.path.join(data_dir, test_dir, test_file),\n",
    "            os.path.join(data_dir, input_dir, 'test', 'unknown'))"
   ]
  },
  {
   "cell_type": "markdown",
   "metadata": {
    "colab_type": "text",
    "id": "Nw-kPJE5FNUw"
   },
   "source": [
    "最后，我们用一个函数分别调用前面定义的read_label_file函数、reorg_train_valid函数以及reorg_test函数。"
   ]
  },
  {
   "cell_type": "code",
   "execution_count": 0,
   "metadata": {
    "colab": {},
    "colab_type": "code",
    "id": "SuZFK5RqFJwJ"
   },
   "outputs": [],
   "source": [
    "def reorg_cifar10_data(data_dir, label_file, train_dir, test_dir,\n",
    "            input_dir, valid_ratio):\n",
    "    n_train_per_label, idx_label = read_label_file(data_dir, label_file,\n",
    "                            train_dir, valid_ratio)\n",
    "    reorg_train_valid(data_dir, train_dir, input_dir, n_train_per_label,\n",
    "            idx_label)\n",
    "    reorg_test(data_dir, test_dir, input_dir)"
   ]
  },
  {
   "cell_type": "markdown",
   "metadata": {
    "colab_type": "text",
    "id": "NzIp7otGGYCH"
   },
   "source": [
    "我们在这里只使用100个训练样本和1个测试样本。训练数据集和测试数据集的文件夹名称分别为train_tiny和test_tiny。相应地，我们仅将批量大小设为1。实际训练和测试时应使用Kaggle比赛的完整数据集，并将批量大小batch_size设为一个较大的整数，如128。我们将10%的训练样本作为调参使用的验证集。"
   ]
  },
  {
   "cell_type": "code",
   "execution_count": 0,
   "metadata": {
    "colab": {},
    "colab_type": "code",
    "id": "BiWMtja9GVpy"
   },
   "outputs": [],
   "source": [
    "demo = True\n",
    "\n",
    "if demo:\n",
    "    # 注意，此处使用小训练集和小测试集并将批量大小相应设小。使用Kaggle比赛的完整数据集时可设批量大小为较大整数\n",
    "    train_dir, test_dir, batch_size = 'train_tiny', 'test_tiny', 1\n",
    "else:\n",
    "    train_dir, test_dir, batch_size = 'train', 'test', 128\n",
    "\n",
    "data_dir = '../../data/kaggle_cifar10'\n",
    "label_file = 'trainLabels.csv'\n",
    "input_dir = 'train_valid_test'\n",
    "valid_ratio = 0.1\n",
    "\n",
    "reorg_cifar10_data(data_dir, label_file, train_dir, test_dir,\n",
    "            input_dir, valid_ratio)"
   ]
  },
  {
   "cell_type": "markdown",
   "metadata": {
    "colab_type": "text",
    "id": "TekJFvqQHXTC"
   },
   "source": [
    "## 9.12.2. 图像增广"
   ]
  },
  {
   "cell_type": "markdown",
   "metadata": {
    "colab_type": "text",
    "id": "FIKkTojGHkr-"
   },
   "source": [
    "为应对过拟合，我们使用图像增广。例如，加入tf.image.random_flip_left_right()即可随机对图像做镜面翻转，也可以通过tf.image.per_image_standardization对彩色图像RGB三个通道分别做标准化。下面列举了其中的部分操作，你可以根据需求来决定是否使用或修改这些操作。"
   ]
  },
  {
   "cell_type": "code",
   "execution_count": 0,
   "metadata": {
    "colab": {},
    "colab_type": "code",
    "id": "S-RsjynDHQp1"
   },
   "outputs": [],
   "source": [
    "def transform_train(feature, label):\n",
    "    # 将图像放大成高和宽各为40像素的正方形\n",
    "    feature = tf.image.resize(feature, [40, 40])\n",
    "    # 随机对高和宽各为40像素的正方形图像裁剪出面积为原图像面积0.64~1倍的小正方形，\n",
    "    # 再放缩为高和宽各为32像素的正方形\n",
    "    seed = tf.random.uniform(shape=(1,), minval=0.64*40, maxval=40)\n",
    "    seed = tf.cast(seed[0], tf.int8)\n",
    "    feature = tf.image.random_crop(feature, size=[seed, seed, 3])\n",
    "    feature = tf.image.resize(feature, size=[32, 32])\n",
    "    feature = tf.image.random_flip_left_right(feature)\n",
    "    feature = tf.image.random_flip_up_down(feature)\n",
    "    # 已经是0-1了\n",
    "    # feature = tf.divide(feature, 255.)\n",
    "    # feature = tf.image.per_image_standardization(feature)\n",
    "    mean = tf.convert_to_tensor([0.4914, 0.4822, 0.4465])\n",
    "    std = tf.convert_to_tensor([0.2023, 0.1994, 0.2010])\n",
    "    # feature = tf.divide(tf.subtract(feature, mean), std)\n",
    "    return feature, label"
   ]
  },
  {
   "cell_type": "markdown",
   "metadata": {
    "colab_type": "text",
    "id": "hQR5IgeBa0WA"
   },
   "source": [
    "测试时，为保证输出的确定性，我们仅对图像做标准化"
   ]
  },
  {
   "cell_type": "code",
   "execution_count": 0,
   "metadata": {
    "colab": {},
    "colab_type": "code",
    "id": "Y1jyRP_jaTQM"
   },
   "outputs": [],
   "source": [
    "def transform_test(feature, label):\n",
    "    feature = tf.divide(feature, 255.)\n",
    "    # feature = tf.image.per_image_standardization(feature)\n",
    "    mean = tf.convert_to_tensor([0.4914, 0.4822, 0.4465])\n",
    "    std = tf.convert_to_tensor([0.2023, 0.1994, 0.2010])\n",
    "    feature = tf.divide(tf.subtract(feature, mean), std)\n",
    "    return feature, label"
   ]
  },
  {
   "cell_type": "markdown",
   "metadata": {
    "colab_type": "text",
    "id": "f2wAPlDtbDcB"
   },
   "source": [
    "## 9.12.3. 读取数据集"
   ]
  },
  {
   "cell_type": "markdown",
   "metadata": {
    "colab_type": "text",
    "id": "GTugOIFKbEpY"
   },
   "source": [
    "接下来，可以通过创建ImageFolderDataset实例来读取整理后的含原始图像文件的数据集，其中每个数据样本包括图像和标签。"
   ]
  },
  {
   "cell_type": "code",
   "execution_count": 0,
   "metadata": {
    "colab": {},
    "colab_type": "code",
    "id": "TT7dsVpFbBSy"
   },
   "outputs": [],
   "source": [
    "# 获取文件名\n",
    "train_list_ds = tf.data.Dataset.list_files(os.path.join(data_dir, input_dir, 'train', '*/*'))\n",
    "valid_list_ds = tf.data.Dataset.list_files(os.path.join(data_dir, input_dir, 'valid', '*/*'))\n",
    "train_valid_list_ds = tf.data.Dataset.list_files(os.path.join(data_dir, input_dir, 'train_valid', '*/*'))\n",
    "test_ds = tf.data.Dataset.list_files(os.path.join(data_dir, input_dir, 'test', '*/*'))"
   ]
  },
  {
   "cell_type": "code",
   "execution_count": 0,
   "metadata": {
    "colab": {},
    "colab_type": "code",
    "id": "y0kfH7MYP-Pc"
   },
   "outputs": [],
   "source": [
    "def idx_and_label(data_dir, label_file, train_dir):\n",
    "    with open(os.path.join(data_dir, label_file), 'r') as f:\n",
    "        # 跳过文件头行（栏名称）\n",
    "        lines = f.readlines()[1:]\n",
    "        tokens = [l.rstrip().split(',') for l in lines]\n",
    "        idx_label = dict(((int(idx), label) for idx, label in tokens))\n",
    "    labels = set(idx_label.values())\n",
    "    idx = []\n",
    "    label = []\n",
    "    for i, l in enumerate(labels):\n",
    "        idx.append(i)\n",
    "        label.append(l)\n",
    "    return idx, label"
   ]
  },
  {
   "cell_type": "code",
   "execution_count": 0,
   "metadata": {
    "colab": {},
    "colab_type": "code",
    "id": "IRtFi0xEyTXZ"
   },
   "outputs": [],
   "source": [
    "idx, label = idx_and_label(data_dir, label_file, train_dir)\n",
    "# 先建立个字典\n",
    "label = tf.convert_to_tensor(label)\n",
    "idx = tf.convert_to_tensor(idx)\n",
    "label2idx = tf.lookup.StaticHashTable(\n",
    "            tf.lookup.KeyValueTensorInitializer(\n",
    "                label, idx, key_dtype=tf.string, value_dtype=tf.int32), -1)\n",
    "idx2label = tf.lookup.StaticHashTable(\n",
    "            tf.lookup.KeyValueTensorInitializer(\n",
    "                idx, label, key_dtype=tf.int32, value_dtype=tf.string), \"unknown\")\n",
    "\n",
    "# label2idx.lookup(tf.convert_to_tensor('cat'))"
   ]
  },
  {
   "cell_type": "code",
   "execution_count": 0,
   "metadata": {
    "colab": {},
    "colab_type": "code",
    "id": "iAFQUjWtiQls"
   },
   "outputs": [],
   "source": [
    "def parse_image(filename):\n",
    "    # 通过 filename 得到 feature 和 label\n",
    "    parts = tf.strings.split(filename, '/')\n",
    "    label = parts[-2]\n",
    "    label = label2idx.lookup(label)\n",
    "\n",
    "    image = tf.io.read_file(filename)\n",
    "    image = tf.image.decode_jpeg(image)\n",
    "    image = tf.image.convert_image_dtype(image, tf.float32)\n",
    "    return image, label"
   ]
  },
  {
   "cell_type": "code",
   "execution_count": 0,
   "metadata": {
    "colab": {},
    "colab_type": "code",
    "id": "Cw8Fa2UngzhS"
   },
   "outputs": [],
   "source": [
    "train_ds = train_list_ds.map(parse_image)\n",
    "valid_ds = valid_list_ds.map(parse_image)\n",
    "train_valid_ds = train_valid_list_ds.map(parse_image)\n",
    "test_ds = test_ds.map(parse_image)"
   ]
  },
  {
   "cell_type": "code",
   "execution_count": 18,
   "metadata": {
    "colab": {
     "base_uri": "https://localhost:8080/",
     "height": 300
    },
    "colab_type": "code",
    "id": "nnncIUwmipXT",
    "outputId": "ac11500d-346d-424d-9907-02ef7cf51420"
   },
   "outputs": [
    {
     "name": "stdout",
     "output_type": "stream",
     "text": [
      "tf.Tensor(b'frog', shape=(), dtype=string)\n"
     ]
    },
    {
     "data": {
      "text/plain": [
       "<matplotlib.image.AxesImage at 0x7f5e9fc4d208>"
      ]
     },
     "execution_count": 18,
     "metadata": {
      "tags": []
     },
     "output_type": "execute_result"
    },
    {
     "data": {
      "image/png": "[encoded data removed]",
      "text/plain": [
       "<Figure size 432x288 with 1 Axes>"
      ]
     },
     "metadata": {
      "needs_background": "light",
      "tags": []
     },
     "output_type": "display_data"
    }
   ],
   "source": [
    "# 小栗子 看看数据\n",
    "x, y = next(iter(train_ds))\n",
    "print(idx2label.lookup(y))\n",
    "plt.imshow(x)"
   ]
  },
  {
   "cell_type": "markdown",
   "metadata": {
    "colab_type": "text",
    "id": "UkXcPZMzja3n"
   },
   "source": [
    "我们在DataLoader中指明定义好的图像增广操作。在训练时，我们仅用验证集评价模型，因此需要保证输出的确定性。在预测时，我们将在训练集和验证集的并集上训练模型，以充分利用所有标注的数据。"
   ]
  },
  {
   "cell_type": "code",
   "execution_count": 0,
   "metadata": {
    "colab": {},
    "colab_type": "code",
    "id": "MPNgNOBFjDpN"
   },
   "outputs": [],
   "source": [
    "train_iter = train_ds.map(transform_train)\n",
    "valid_iter = valid_ds.map(transform_test)\n",
    "train_valid_iter = train_valid_ds.map(transform_train)\n",
    "test_iter = test_ds.map(transform_test)"
   ]
  },
  {
   "cell_type": "code",
   "execution_count": 0,
   "metadata": {
    "colab": {},
    "colab_type": "code",
    "id": "pmybflAINl7N"
   },
   "outputs": [],
   "source": [
    "batch_size = 8\n",
    "train_iter = train_iter.shuffle(1024).batch(batch_size)\n",
    "valid_iter = valid_iter.shuffle(1024).batch(batch_size)\n",
    "train_valid_iter = train_valid_iter.shuffle(1024).batch(batch_size)\n",
    "test_iter = test_iter.shuffle(1024).batch(batch_size)"
   ]
  },
  {
   "cell_type": "code",
   "execution_count": 21,
   "metadata": {
    "colab": {
     "base_uri": "https://localhost:8080/",
     "height": 300
    },
    "colab_type": "code",
    "id": "gY04DJw7jzL8",
    "outputId": "8907b1bd-c7fe-4e0c-dd54-b5bd11824b77"
   },
   "outputs": [
    {
     "name": "stdout",
     "output_type": "stream",
     "text": [
      "tf.Tensor(b'ship', shape=(), dtype=string)\n"
     ]
    },
    {
     "data": {
      "text/plain": [
       "<matplotlib.image.AxesImage at 0x7f5e9ee3a588>"
      ]
     },
     "execution_count": 21,
     "metadata": {
      "tags": []
     },
     "output_type": "execute_result"
    },
    {
     "data": {
      "image/png": "[encoded data removed]",
      "text/plain": [
       "<Figure size 432x288 with 1 Axes>"
      ]
     },
     "metadata": {
      "needs_background": "light",
      "tags": []
     },
     "output_type": "display_data"
    }
   ],
   "source": [
    "# 小栗子 看看数据\n",
    "x, y = next(iter(train_iter))\n",
    "print(idx2label.lookup(y[0]))\n",
    "plt.imshow(x[0])"
   ]
  },
  {
   "cell_type": "markdown",
   "metadata": {
    "colab_type": "text",
    "id": "vBHRWzuAkudg"
   },
   "source": [
    "## 9.12.4. 定义模型"
   ]
  },
  {
   "cell_type": "markdown",
   "metadata": {
    "colab_type": "text",
    "id": "4toBYEgMkvcA"
   },
   "source": [
    "与“残差网络（ResNet）”一节中的实现稍有不同，这里基于HybridBlock类构建残差块。这是为了提升执行效率。\n",
    "\n",
    "tensorflow 好像没有这种？ 还用原来那个定义好了"
   ]
  },
  {
   "cell_type": "code",
   "execution_count": 0,
   "metadata": {
    "colab": {},
    "colab_type": "code",
    "id": "B_TAHxuGklAv"
   },
   "outputs": [],
   "source": [
    "class Residual(keras.Model):\n",
    "    def __init__(self, num_channels, use_1x1conv=False, strides=1, **kwargs):\n",
    "        super(Residual, self).__init__(**kwargs)\n",
    "        self.conv1 = keras.layers.Conv2D(num_channels,\n",
    "                        padding='same',\n",
    "                        kernel_size=3,\n",
    "                        strides=strides)\n",
    "        self.conv2 = keras.layers.Conv2D(num_channels,\n",
    "                        kernel_size=3,\n",
    "                        padding='same')\n",
    "        if use_1x1conv:\n",
    "            self.conv3 = keras.layers.Conv2D(num_channels,\n",
    "                            kernel_size=1,\n",
    "                            strides=strides)\n",
    "        else:\n",
    "            self.conv3 = None\n",
    "        self.bn1 = keras.layers.BatchNormalization()\n",
    "        self.bn2 = keras.layers.BatchNormalization()\n",
    "    \n",
    "    def call(self, x):\n",
    "        y = keras.activations.relu(self.bn1(self.conv1(x)))\n",
    "        y = self.bn2(self.conv2(y))\n",
    "        if self.conv3:\n",
    "            x = self.conv3(x)\n",
    "        return keras.activations.relu(y + x)"
   ]
  },
  {
   "cell_type": "markdown",
   "metadata": {
    "colab_type": "text",
    "id": "tD4Hz1deEhlN"
   },
   "source": [
    "下面定义ResNet-18模型。"
   ]
  },
  {
   "cell_type": "code",
   "execution_count": 0,
   "metadata": {
    "colab": {},
    "colab_type": "code",
    "id": "tmEGFSgiD0GF"
   },
   "outputs": [],
   "source": [
    "def resnet18(num_classes):\n",
    "    net = keras.Sequential()\n",
    "    net.add(keras.layers.Conv2D(64, kernel_size=3, strides=1, padding='same'))\n",
    "    net.add(keras.layers.BatchNormalization())\n",
    "    net.add(keras.layers.Activation('relu'))\n",
    "\n",
    "    def resnet_block(num_channels, num_residuals, first_block=False):\n",
    "        blk = keras.Sequential()\n",
    "        for i in range(num_residuals):\n",
    "            if i == 0 and not first_block:\n",
    "                blk.add(Residual(num_channels, use_1x1conv=True, strides=2))\n",
    "            else:\n",
    "                blk.add(Residual(num_channels))\n",
    "        return blk\n",
    "    \n",
    "    net.add(resnet_block(64, 2, first_block=True))\n",
    "    net.add(resnet_block(128, 2))\n",
    "    net.add(resnet_block(256, 2))\n",
    "    net.add(resnet_block(512, 2))\n",
    "    net.add(keras.layers.GlobalAveragePooling2D())\n",
    "    net.add(keras.layers.Dense(num_classes, activation='softmax'))\n",
    "    return net"
   ]
  },
  {
   "cell_type": "markdown",
   "metadata": {
    "colab_type": "text",
    "id": "cotiCsRrH1DX"
   },
   "source": [
    "CIFAR-10图像分类问题的类别个数为10。"
   ]
  },
  {
   "cell_type": "code",
   "execution_count": 0,
   "metadata": {
    "colab": {},
    "colab_type": "code",
    "id": "NXGCVHZaHzkG"
   },
   "outputs": [],
   "source": [
    "def get_net():\n",
    "    num_classes = 10\n",
    "    net = resnet18(num_classes)\n",
    "    return net\n",
    "net = get_net()"
   ]
  },
  {
   "cell_type": "code",
   "execution_count": 25,
   "metadata": {
    "colab": {
     "base_uri": "https://localhost:8080/",
     "height": 170
    },
    "colab_type": "code",
    "id": "PW2qZFwc_eSG",
    "outputId": "f8ee312c-187c-402a-fc7b-e56a05ea1722"
   },
   "outputs": [
    {
     "name": "stdout",
     "output_type": "stream",
     "text": [
      "conv2d output_shape: (1, 32, 32, 64)\n",
      "batch_normalization output_shape: (1, 32, 32, 64)\n",
      "activation output_shape: (1, 32, 32, 64)\n",
      "sequential_1 output_shape: (1, 32, 32, 64)\n",
      "sequential_2 output_shape: (1, 16, 16, 128)\n",
      "sequential_3 output_shape: (1, 8, 8, 256)\n",
      "sequential_4 output_shape: (1, 4, 4, 512)\n",
      "global_average_pooling2d output_shape: (1, 512)\n",
      "dense output_shape: (1, 10)\n"
     ]
    }
   ],
   "source": [
    "x = tf.random.uniform(shape=(1,32,32,3))\n",
    "for layer in net.layers:\n",
    "    x = layer(x)\n",
    "    print(layer.name, \"output_shape:\", x.shape)"
   ]
  },
  {
   "cell_type": "markdown",
   "metadata": {
    "colab_type": "text",
    "id": "e7ki445fJdqx"
   },
   "source": [
    "## 9.12.5. 定义训练函数"
   ]
  },
  {
   "cell_type": "markdown",
   "metadata": {
    "colab_type": "text",
    "id": "g9IV6K1vJgMB"
   },
   "source": [
    "我们将根据模型在验证集上的表现来选择模型并调节超参数。下面定义了模型的训练函数train。我们记录了每个迭代周期的训练时间，这有助于比较不同模型的时间开销。"
   ]
  },
  {
   "cell_type": "code",
   "execution_count": 0,
   "metadata": {
    "colab": {},
    "colab_type": "code",
    "id": "3FLFzBc2JIpp"
   },
   "outputs": [],
   "source": [
    "lr = 0.1\n",
    "lr_decay = 0.01\n",
    "\n",
    "def scheduler(epoch):\n",
    "  if epoch < 10:\n",
    "    return lr\n",
    "  else:\n",
    "    return lr * tf.math.exp(lr_decay * (10 - epoch))\n",
    "\n",
    "callback = tf.keras.callbacks.LearningRateScheduler(scheduler)\n",
    "\n",
    "net.compile(optimizer=keras.optimizers.SGD(learning_rate=lr, momentum=0.9),\n",
    "        loss='sparse_categorical_crossentropy',\n",
    "        metrics=['accuracy'])"
   ]
  },
  {
   "cell_type": "markdown",
   "metadata": {
    "colab_type": "text",
    "id": "t4PdOAFAMkHu"
   },
   "source": [
    "## 9.12.6. 训练模型"
   ]
  },
  {
   "cell_type": "markdown",
   "metadata": {
    "colab_type": "text",
    "id": "a_g3lTJIMll1"
   },
   "source": [
    "现在，我们可以训练并验证模型了。简单起见，这里仅训练1个迭代周期。"
   ]
  },
  {
   "cell_type": "code",
   "execution_count": 27,
   "metadata": {
    "colab": {
     "base_uri": "https://localhost:8080/",
     "height": 71
    },
    "colab_type": "code",
    "id": "QJKjycn7JkYn",
    "outputId": "e2cd7ae5-2ef9-404f-ca4b-b96e6ab5b508"
   },
   "outputs": [
    {
     "name": "stdout",
     "output_type": "stream",
     "text": [
      "12/12 [==============================] - 9s 770ms/step - loss: 13.8743 - accuracy: 0.0556 - val_loss: 4652004352.0000 - val_accuracy: 0.1000 - lr: 0.1000\n"
     ]
    },
    {
     "data": {
      "text/plain": [
       "<tensorflow.python.keras.callbacks.History at 0x7f5e98d83668>"
      ]
     },
     "execution_count": 27,
     "metadata": {
      "tags": []
     },
     "output_type": "execute_result"
    }
   ],
   "source": [
    "net.fit(train_iter,\n",
    "    epochs=1,\n",
    "    validation_data=valid_iter,\n",
    "    callbacks=[callback])"
   ]
  },
  {
   "cell_type": "markdown",
   "metadata": {
    "colab_type": "text",
    "id": "lFFNhqEa1a5t"
   },
   "source": [
    "## 9.12.7. 对测试集分类并在Kaggle提交结果"
   ]
  },
  {
   "cell_type": "markdown",
   "metadata": {
    "colab_type": "text",
    "id": "MSNbSTH71iuS"
   },
   "source": [
    "得到一组满意的模型设计和超参数后，我们使用所有训练数据集（含验证集）重新训练模型，并对测试集进行分类。"
   ]
  },
  {
   "cell_type": "code",
   "execution_count": 28,
   "metadata": {
    "colab": {
     "base_uri": "https://localhost:8080/",
     "height": 51
    },
    "colab_type": "code",
    "id": "OF5zlPOINHrt",
    "outputId": "0fea80a9-e6ac-4e6d-aa4a-5e4abd7ec4a8"
   },
   "outputs": [
    {
     "name": "stdout",
     "output_type": "stream",
     "text": [
      "13/13 [==============================] - 9s 730ms/step - loss: 4.6589 - accuracy: 0.0700 - lr: 0.1000\n"
     ]
    },
    {
     "data": {
      "text/plain": [
       "<tensorflow.python.keras.callbacks.History at 0x7f5e98b51ba8>"
      ]
     },
     "execution_count": 28,
     "metadata": {
      "tags": []
     },
     "output_type": "execute_result"
    }
   ],
   "source": [
    "net.compile(optimizer=keras.optimizers.SGD(),\n",
    "        loss='sparse_categorical_crossentropy',\n",
    "        metrics=['accuracy'])\n",
    "\n",
    "net.fit(train_valid_iter,\n",
    "    epochs=1,\n",
    "    callbacks=[callback])"
   ]
  },
  {
   "cell_type": "markdown",
   "metadata": {
    "colab_type": "text",
    "id": "bFKhqrBw5aGi"
   },
   "source": [
    "执行完上述代码后，我们会得到一个submission.csv文件。这个文件符合Kaggle比赛要求的提交格式。提交结果的方法与“实战Kaggle比赛：房价预测”一节中的类似。"
   ]
  }
 ],
 "metadata": {
  "colab": {
   "collapsed_sections": [
    "TekJFvqQHXTC",
    "vBHRWzuAkudg",
    "e7ki445fJdqx",
    "t4PdOAFAMkHu",
    "lFFNhqEa1a5t"
   ],
   "name": "9.12_kaggle_cifar10.ipynb",
   "provenance": []
  },
  "hide_input": false,
  "kernelspec": {
   "display_name": "Python 3",
   "language": "python",
   "name": "python3"
  },
  "language_info": {
   "codemirror_mode": {
    "name": "ipython",
    "version": 3
   },
   "file_extension": ".py",
   "mimetype": "text/x-python",
   "name": "python",
   "nbconvert_exporter": "python",
   "pygments_lexer": "ipython3",
   "version": "3.7.0"
  },
  "latex_envs": {
   "LaTeX_envs_menu_present": true,
   "autoclose": true,
   "autocomplete": true,
   "bibliofile": "biblio.bib",
   "cite_by": "apalike",
   "current_citInitial": 1,
   "eqLabelWithNumbers": true,
   "eqNumInitial": 1,
   "hotkeys": {
    "equation": "Ctrl-E",
    "itemize": "Ctrl-I"
   },
   "labels_anchors": false,
   "latex_user_defs": false,
   "report_style_numbering": false,
   "user_envs_cfg": false
  },
  "toc": {
   "base_numbering": 1,
   "nav_menu": {},
   "number_sections": true,
   "sideBar": true,
   "skip_h1_title": false,
   "title_cell": "Table of Contents",
   "title_sidebar": "Contents",
   "toc_cell": false,
   "toc_position": {},
   "toc_section_display": true,
   "toc_window_display": false
  },
  "varInspector": {
   "cols": {
    "lenName": 16,
    "lenType": 16,
    "lenVar": 40
   },
   "kernels_config": {
    "python": {
     "delete_cmd_postfix": "",
     "delete_cmd_prefix": "del ",
     "library": "var_list.py",
     "varRefreshCmd": "print(var_dic_list())"
    },
    "r": {
     "delete_cmd_postfix": ") ",
     "delete_cmd_prefix": "rm(",
     "library": "var_list.r",
     "varRefreshCmd": "cat(var_dic_list()) "
    }
   },
   "types_to_exclude": [
    "module",
    "function",
    "builtin_function_or_method",
    "instance",
    "_Feature"
   ],
   "window_display": false
  }
 },
 "nbformat": 4,
 "nbformat_minor": 1
}
